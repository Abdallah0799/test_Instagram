{
 "cells": [
  {
   "cell_type": "code",
   "execution_count": null,
   "metadata": {},
   "outputs": [],
   "source": [
    "from selenium import webdriver\n",
    "from selenium.webdriver.common.keys import Keys\n",
    "from selenium.webdriver.support import expected_conditions as EC\n",
    "from selenium.webdriver.common.by import By\n",
    "from selenium.webdriver.support.wait import WebDriverWait\n",
    "import time\n",
    "import os\n",
    "import numpy as np\n",
    "import pandas as pd"
   ]
  },
  {
   "cell_type": "code",
   "execution_count": null,
   "metadata": {},
   "outputs": [],
   "source": [
    "PATH = r\"C:\\Users\\Abdallah\\Downloads\\chromedriver_win32\\chromedriver.exe\"\n",
    "driver = webdriver.Chrome(PATH)\n",
    "driver.get(\"http://www.instagram.com\")"
   ]
  },
  {
   "cell_type": "code",
   "execution_count": null,
   "metadata": {},
   "outputs": [],
   "source": [
    "# we need to to this on the similar user pages\n",
    "\n",
    "anchors=[]\n",
    "for i in range(0,3):\n",
    "    print(i)\n",
    "    n_scrolls = 2\n",
    "    fBody  = driver.find_element_by_xpath(\"//div[@class='isgrP']\")\n",
    "    for j in range(0, n_scrolls):\n",
    "        driver.execute_script('arguments[0].scrollTop = arguments[0].scrollTop + arguments[0].offsetHeight;', fBody)\n",
    "        time.sleep(2)\n",
    "\n",
    "\n",
    "    temp = fBody.find_element_by_class_name(\"_7UhW9.xLCgt.qyrsm.KV-D4.se6yk.T0kll\")\n",
    "    temp = [a.text for a in temp]\n",
    "    #narrow down all links to image links only\n",
    "    anchors = anchors+temp"
   ]
  }
 ],
 "metadata": {
  "language_info": {
   "name": "python"
  },
  "orig_nbformat": 4
 },
 "nbformat": 4,
 "nbformat_minor": 2
}
