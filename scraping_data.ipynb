{
 "cells": [
  {
   "cell_type": "code",
   "execution_count": 1,
   "metadata": {},
   "outputs": [],
   "source": [
    "import pandas as pd \n",
    "import numpy as np\n",
    "import requests\n",
    "from bs4 import BeautifulSoup\n",
    "import json"
   ]
  },
  {
   "cell_type": "code",
   "execution_count": 2,
   "metadata": {},
   "outputs": [],
   "source": [
    "business = pd.read_csv(\"business_usernames2.0.csv\")\n",
    "fitness = pd.read_csv(\"fitness_usernames2.0.csv\")\n",
    "sante = pd.read_csv(\"sante_usernames2.0.csv\")"
   ]
  },
  {
   "cell_type": "code",
   "execution_count": 3,
   "metadata": {},
   "outputs": [],
   "source": [
    "data = pd.concat([business, sante, fitness], axis=0)"
   ]
  },
  {
   "cell_type": "code",
   "execution_count": 4,
   "metadata": {},
   "outputs": [],
   "source": [
    "unique_data = data[\"username\"].unique()"
   ]
  },
  {
   "cell_type": "code",
   "execution_count": 6,
   "metadata": {},
   "outputs": [],
   "source": [
    "final_data = []\n",
    "for dat in unique_data:\n",
    "    if dat.endswith(\"Vérifié\"):\n",
    "        pass\n",
    "    else:\n",
    "        final_data.append(dat)"
   ]
  },
  {
   "cell_type": "code",
   "execution_count": 7,
   "metadata": {},
   "outputs": [
    {
     "data": {
      "text/plain": [
       "2055"
      ]
     },
     "execution_count": 7,
     "metadata": {},
     "output_type": "execute_result"
    }
   ],
   "source": [
    "len(final_data)"
   ]
  },
  {
   "cell_type": "code",
   "execution_count": 8,
   "metadata": {},
   "outputs": [],
   "source": [
    "data = pd.DataFrame(columns=[\"usernames\"], data = final_data)"
   ]
  },
  {
   "cell_type": "code",
   "execution_count": 9,
   "metadata": {},
   "outputs": [],
   "source": [
    "data.to_csv(\"data.csv\")"
   ]
  },
  {
   "cell_type": "code",
   "execution_count": 10,
   "metadata": {},
   "outputs": [
    {
     "data": {
      "text/html": [
       "<div>\n",
       "<style scoped>\n",
       "    .dataframe tbody tr th:only-of-type {\n",
       "        vertical-align: middle;\n",
       "    }\n",
       "\n",
       "    .dataframe tbody tr th {\n",
       "        vertical-align: top;\n",
       "    }\n",
       "\n",
       "    .dataframe thead th {\n",
       "        text-align: right;\n",
       "    }\n",
       "</style>\n",
       "<table border=\"1\" class=\"dataframe\">\n",
       "  <thead>\n",
       "    <tr style=\"text-align: right;\">\n",
       "      <th></th>\n",
       "      <th>usernames</th>\n",
       "    </tr>\n",
       "  </thead>\n",
       "  <tbody>\n",
       "    <tr>\n",
       "      <th>0</th>\n",
       "      <td>2digitalesnomades</td>\n",
       "    </tr>\n",
       "    <tr>\n",
       "      <th>1</th>\n",
       "      <td>3_kifsparjour</td>\n",
       "    </tr>\n",
       "    <tr>\n",
       "      <th>2</th>\n",
       "      <td>3b_invest</td>\n",
       "    </tr>\n",
       "    <tr>\n",
       "      <th>3</th>\n",
       "      <td>_cecilenoel</td>\n",
       "    </tr>\n",
       "    <tr>\n",
       "      <th>4</th>\n",
       "      <td>_cryptovision_</td>\n",
       "    </tr>\n",
       "    <tr>\n",
       "      <th>...</th>\n",
       "      <td>...</td>\n",
       "    </tr>\n",
       "    <tr>\n",
       "      <th>2050</th>\n",
       "      <td>jiovaniebrown</td>\n",
       "    </tr>\n",
       "    <tr>\n",
       "      <th>2051</th>\n",
       "      <td>coach.ade</td>\n",
       "    </tr>\n",
       "    <tr>\n",
       "      <th>2052</th>\n",
       "      <td>vladmethod</td>\n",
       "    </tr>\n",
       "    <tr>\n",
       "      <th>2053</th>\n",
       "      <td>wildcoaching</td>\n",
       "    </tr>\n",
       "    <tr>\n",
       "      <th>2054</th>\n",
       "      <td>jonathan.jover</td>\n",
       "    </tr>\n",
       "  </tbody>\n",
       "</table>\n",
       "<p>2055 rows × 1 columns</p>\n",
       "</div>"
      ],
      "text/plain": [
       "              usernames\n",
       "0     2digitalesnomades\n",
       "1         3_kifsparjour\n",
       "2             3b_invest\n",
       "3           _cecilenoel\n",
       "4        _cryptovision_\n",
       "...                 ...\n",
       "2050      jiovaniebrown\n",
       "2051          coach.ade\n",
       "2052         vladmethod\n",
       "2053       wildcoaching\n",
       "2054     jonathan.jover\n",
       "\n",
       "[2055 rows x 1 columns]"
      ]
     },
     "execution_count": 10,
     "metadata": {},
     "output_type": "execute_result"
    }
   ],
   "source": [
    "data"
   ]
  },
  {
   "cell_type": "markdown",
   "metadata": {},
   "source": [
    "# Scraping user pages"
   ]
  },
  {
   "cell_type": "code",
   "execution_count": 11,
   "metadata": {},
   "outputs": [],
   "source": [
    "from selenium import webdriver\n",
    "from selenium.webdriver.common.keys import Keys\n",
    "from selenium.webdriver.support import expected_conditions as EC\n",
    "from selenium.webdriver.common.by import By\n",
    "from selenium.webdriver.support.wait import WebDriverWait\n",
    "import time\n",
    "import os\n",
    "import numpy as np\n",
    "import pandas as pd"
   ]
  },
  {
   "cell_type": "code",
   "execution_count": 70,
   "metadata": {},
   "outputs": [
    {
     "name": "stderr",
     "output_type": "stream",
     "text": [
      "C:\\Users\\Abdallah\\AppData\\Local\\Temp/ipykernel_10428/1746484544.py:2: DeprecationWarning: executable_path has been deprecated, please pass in a Service object\n",
      "  driver = webdriver.Chrome(PATH)\n"
     ]
    }
   ],
   "source": [
    "PATH = r\"C:\\Users\\Abdallah\\Downloads\\chromedriver_win32\\chromedriver.exe\"\n",
    "driver = webdriver.Chrome(PATH)\n",
    "driver.get(\"http://www.instagram.com\")"
   ]
  },
  {
   "cell_type": "code",
   "execution_count": 71,
   "metadata": {},
   "outputs": [],
   "source": [
    "usernames = data[\"usernames\"].values[94:200]\n",
    "users_infos = {}"
   ]
  },
  {
   "cell_type": "code",
   "execution_count": 72,
   "metadata": {},
   "outputs": [
    {
     "name": "stdout",
     "output_type": "stream",
     "text": [
      "0\n"
     ]
    },
    {
     "name": "stderr",
     "output_type": "stream",
     "text": [
      "C:\\Users\\Abdallah\\AppData\\Local\\Temp/ipykernel_10428/3228264139.py:14: DeprecationWarning: find_elements_by_* commands are deprecated. Please use find_elements() instead\n",
      "  stats = driver.find_elements_by_class_name(\"g47SY\")\n",
      "C:\\Users\\Abdallah\\AppData\\Local\\Temp/ipykernel_10428/3228264139.py:23: DeprecationWarning: find_element_by_* commands are deprecated. Please use find_element() instead\n",
      "  titre = driver.find_element_by_class_name(\"_7UhW9.vy6Bb.MMzan._0PwGv.uL8Hv.T0kll\")\n",
      "C:\\Users\\Abdallah\\AppData\\Local\\Temp/ipykernel_10428/3228264139.py:30: DeprecationWarning: find_elements_by_* commands are deprecated. Please use find_elements() instead\n",
      "  description = driver.find_elements_by_class_name(\"_7UhW9.vy6Bb.MMzan.KV-D4.uL8Hv.T0kll\")\n",
      "C:\\Users\\Abdallah\\AppData\\Local\\Temp/ipykernel_10428/3228264139.py:39: DeprecationWarning: find_elements_by_* commands are deprecated. Please use find_elements() instead\n",
      "  links = driver.find_elements_by_tag_name('a')\n",
      "C:\\Users\\Abdallah\\AppData\\Local\\Temp/ipykernel_10428/3228264139.py:43: DeprecationWarning: find_elements_by_* commands are deprecated. Please use find_elements() instead\n",
      "  image = driver.find_elements_by_class_name(\"KL4Bh\")\n",
      "c:\\Users\\Abdallah\\anaconda3\\lib\\site-packages\\selenium\\webdriver\\remote\\webelement.py:341: UserWarning: find_element_by_* commands are deprecated. Please use find_element() instead\n",
      "  warnings.warn(\"find_element_by_* commands are deprecated. Please use find_element() instead\")\n"
     ]
    },
    {
     "name": "stdout",
     "output_type": "stream",
     "text": [
      "1\n",
      "2\n",
      "Erreur dans le titre\n",
      "3\n",
      "4\n",
      "Erreur dans le titre\n",
      "5\n",
      "Erreur dans le titre\n",
      "6\n",
      "7\n",
      "8\n",
      "9\n",
      "10\n",
      "Erreur dans le titre\n",
      "11\n",
      "12\n",
      "13\n",
      "Erreur dans le titre\n",
      "14\n",
      "15\n",
      "16\n",
      "17\n",
      "Erreur dans le titre\n",
      "18\n",
      "19\n",
      "20\n",
      "Erreur dans le titre\n",
      "21\n",
      "Erreur dans le titre\n",
      "22\n",
      "23\n",
      "24\n",
      "25\n",
      "26\n",
      "27\n",
      "28\n",
      "29\n",
      "30\n",
      "31\n",
      "32\n",
      "33\n",
      "Erreur dans le titre\n",
      "34\n",
      "Erreur dans le titre\n",
      "35\n",
      "Erreur dans le titre\n",
      "36\n",
      "Erreur dans le titre\n",
      "37\n",
      "Erreur dans le titre\n",
      "38\n",
      "39\n",
      "40\n",
      "41\n",
      "42\n",
      "Erreur dans le titre\n",
      "43\n",
      "Erreur dans le titre\n",
      "44\n",
      "Erreur dans le titre\n",
      "45\n",
      "46\n",
      "Erreur dans le titre\n",
      "47\n",
      "48\n",
      "49\n",
      "50\n",
      "Erreur dans le titre\n",
      "51\n",
      "Erreur dans le titre\n",
      "52\n",
      "53\n",
      "54\n",
      "55\n",
      "56\n",
      "57\n",
      "Erreur dans le titre\n",
      "58\n",
      "Erreur dans le titre\n",
      "59\n",
      "Erreur dans le titre\n",
      "60\n",
      "Erreur dans le titre\n",
      "61\n",
      "Erreur dans le titre\n",
      "62\n",
      "63\n",
      "Erreur dans le titre\n",
      "64\n",
      "65\n",
      "66\n",
      "Erreur dans le titre\n",
      "67\n",
      "68\n",
      "69\n",
      "Erreur dans le titre\n",
      "70\n",
      "Erreur dans le titre\n",
      "71\n",
      "72\n",
      "73\n",
      "74\n",
      "75\n",
      "76\n",
      "Erreur dans le titre\n",
      "77\n",
      "78\n",
      "79\n",
      "80\n",
      "Erreur dans le titre\n",
      "81\n",
      "82\n",
      "83\n",
      "Erreur dans le titre\n",
      "84\n",
      "85\n",
      "86\n",
      "87\n",
      "Erreur dans le titre\n",
      "88\n",
      "89\n",
      "90\n",
      "91\n",
      "92\n",
      "93\n",
      "Erreur dans le titre\n",
      "94\n",
      "95\n",
      "Erreur dans le titre\n",
      "96\n",
      "Erreur dans le titre\n",
      "97\n",
      "Erreur dans le titre\n",
      "98\n",
      "99\n",
      "100\n",
      "Erreur dans le titre\n",
      "101\n",
      "Erreur dans le titre\n",
      "102\n",
      "103\n",
      "Erreur dans le titre\n",
      "104\n",
      "Erreur dans le titre\n",
      "105\n"
     ]
    }
   ],
   "source": [
    "for i, username in enumerate(usernames):\n",
    "    \n",
    "    print(i)\n",
    "    \n",
    "    driver.get(\"http://www.instagram.com/\"+username)\n",
    "    \n",
    "    numbers = pd.NA\n",
    "    titre = pd.NA\n",
    "    description = pd.NA\n",
    "    posts_dict = pd.NA\n",
    "    \n",
    "    try:\n",
    "        numbers = {}\n",
    "        stats = driver.find_elements_by_class_name(\"g47SY\")\n",
    "        numbers[\"publications\"] = stats[0].text\n",
    "        numbers[\"followers\"] = stats[1].text\n",
    "        numbers[\"abonnements\"] = stats[2].text\n",
    "    except:\n",
    "        print(\"Erreur dans les statistiques\")\n",
    "        pass\n",
    "\n",
    "    try:\n",
    "        titre = driver.find_element_by_class_name(\"_7UhW9.vy6Bb.MMzan._0PwGv.uL8Hv.T0kll\")\n",
    "        titre = titre.text\n",
    "    except:\n",
    "        print(\"Erreur dans le titre\")\n",
    "        pass\n",
    "\n",
    "    try:\n",
    "        description = driver.find_elements_by_class_name(\"_7UhW9.vy6Bb.MMzan.KV-D4.uL8Hv.T0kll\")\n",
    "        description = description[3].text\n",
    "    except:\n",
    "        print(\"Erreur dans la description du profil\")\n",
    "        pass\n",
    "    \n",
    "    try:\n",
    "        posts_dict = {}\n",
    "        \n",
    "        links = driver.find_elements_by_tag_name('a')\n",
    "        links = [a.get_attribute('href') for a in links]\n",
    "        links = [a for a in links if str(a).startswith(\"https://www.instagram.com/p/\")]\n",
    "\n",
    "        image = driver.find_elements_by_class_name(\"KL4Bh\")\n",
    "        image_infos = [a.find_element_by_tag_name('img').get_attribute(\"alt\") for a in image]\n",
    "        links_to_images = [a.find_element_by_tag_name('img').get_attribute(\"src\") for a in image]\n",
    "\n",
    "        for link, image_info, link_to_image in zip(links, image_infos, links_to_images):\n",
    "            shortcode = link.split(sep=\"/\")[-2]\n",
    "            posts_dict[shortcode]={\"image_infos\": image_info, \"link_to_image\": link_to_image}\n",
    "        \n",
    "    except:\n",
    "        print(\"Erreur avec les posts\")\n",
    "        pass\n",
    "        \n",
    "    \n",
    "    users_infos[username] = {\"statistiques\": numbers, \"titre\": titre, \"description\": description, \"posts\": posts_dict}"
   ]
  },
  {
   "cell_type": "code",
   "execution_count": 73,
   "metadata": {},
   "outputs": [],
   "source": [
    "users94_200 = users_infos"
   ]
  },
  {
   "cell_type": "code",
   "execution_count": 74,
   "metadata": {},
   "outputs": [],
   "source": [
    "dict_list = [users94, users94_200, users200_600, users766, users823, users999, users1047, users1356, users1644, users2054]"
   ]
  },
  {
   "cell_type": "code",
   "execution_count": 137,
   "metadata": {},
   "outputs": [],
   "source": [
    "users_list = []\n",
    "for dict in dict_list:\n",
    "    \n",
    "    for key in dict.keys():\n",
    "        if dict[key]['posts'] != []:\n",
    "            users_list.append({key: dict[key]})\n",
    "    "
   ]
  },
  {
   "cell_type": "code",
   "execution_count": 121,
   "metadata": {},
   "outputs": [],
   "source": [
    "import os\n",
    "\n",
    "database_rows = []\n",
    "unique_users = []\n",
    "\n",
    "for us in users_list:\n",
    "    \n",
    "    database_row = {}\n",
    "    \n",
    "    the_username = list(us.keys())[0]\n",
    "    publications = us[the_username]['statistiques']['publications']\n",
    "    followers = us[the_username]['statistiques']['followers']\n",
    "    abonnements = us[the_username]['statistiques']['abonnements']\n",
    "    titre = us[the_username]['titre']\n",
    "    description = us[the_username]['description']\n",
    "    \n",
    "    posts_infos = us[the_username]['posts']\n",
    "    \n",
    "    if the_username not in unique_users:\n",
    "        \n",
    "        os.mkdir('posts/'+the_username)\n",
    "        \n",
    "        description_posts = []\n",
    "        for shortcode in posts_infos.keys():\n",
    "            \n",
    "            description_posts.append(us[the_username]['posts'][shortcode]['image_infos'])\n",
    "            \n",
    "            with open('posts/'+the_username+'/'+shortcode+'.txt', 'w+') as f:\n",
    "                \n",
    "                if us[the_username]['posts'][shortcode]['link_to_image'] != None:\n",
    "                    f.write(us[the_username]['posts'][shortcode]['link_to_image'])\n",
    "                else:\n",
    "                    f.write(\"Pas de lien disponible\")\n",
    "                    \n",
    "                f.close()\n",
    "        \n",
    "        description_of_posts = \"/\".join(description_posts)\n",
    "        \n",
    "        database_row[\"username\"] = the_username\n",
    "        database_row[\"publications\"] = publications\n",
    "        database_row[\"followers\"] = followers\n",
    "        database_row[\"abonnements\"] = abonnements\n",
    "        database_row[\"titre\"] = titre\n",
    "        database_row[\"biographie\"] = description\n",
    "        database_row['description_of_posts'] = description_of_posts\n",
    "        \n",
    "        database_rows.append(database_row)\n",
    "        unique_users.append(the_username)\n",
    "        "
   ]
  },
  {
   "cell_type": "code",
   "execution_count": 174,
   "metadata": {},
   "outputs": [],
   "source": [
    "big_data = pd.DataFrame(database_rows)"
   ]
  },
  {
   "cell_type": "code",
   "execution_count": 145,
   "metadata": {},
   "outputs": [],
   "source": [
    "big_data.to_csv(\"final_database.csv\")"
   ]
  },
  {
   "cell_type": "code",
   "execution_count": 175,
   "metadata": {},
   "outputs": [],
   "source": [
    "for i in range(0, big_data.shape[0]):\n",
    "    val = big_data['followers'][i]\n",
    "    if \"k\" in val:\n",
    "        val = val.removesuffix(\"k\")\n",
    "        val = val.replace(',', '.')\n",
    "        val = float(val)\n",
    "        val = int(val*1000)\n",
    "        big_data['followers'][i] = val\n",
    "    elif \"m\" in val:\n",
    "        val = val.removesuffix(\"m\")\n",
    "        val = val.replace(',', '.')\n",
    "        val = float(val)\n",
    "        val = int(val*1000000)\n",
    "        big_data['followers'][i] = val\n",
    "    else:\n",
    "        val = val.replace(\" \",\"\")\n",
    "        big_data['followers'][i] = int(val)\n",
    "    \n",
    "    "
   ]
  },
  {
   "cell_type": "code",
   "execution_count": 181,
   "metadata": {},
   "outputs": [],
   "source": [
    "big_data.to_csv(\"final_database.csv\")"
   ]
  }
 ],
 "metadata": {
  "interpreter": {
   "hash": "b16c3167520988aeeb3aa5a56b292356638d4a953c3e3b81bc4aad782f160faa"
  },
  "kernelspec": {
   "display_name": "Python 3.9.7 ('base')",
   "language": "python",
   "name": "python3"
  },
  "language_info": {
   "codemirror_mode": {
    "name": "ipython",
    "version": 3
   },
   "file_extension": ".py",
   "mimetype": "text/x-python",
   "name": "python",
   "nbconvert_exporter": "python",
   "pygments_lexer": "ipython3",
   "version": "3.9.7"
  },
  "orig_nbformat": 4
 },
 "nbformat": 4,
 "nbformat_minor": 2
}
